{
 "cells": [
  {
   "cell_type": "code",
   "execution_count": 1,
   "metadata": {},
   "outputs": [
    {
     "name": "stderr",
     "output_type": "stream",
     "text": [
      "C:\\Users\\HP\\AppData\\Local\\Continuum\\anaconda3\\lib\\site-packages\\pandas\\compat\\_optional.py:138: UserWarning: Pandas requires version '2.7.0' or newer of 'numexpr' (version '2.6.9' currently installed).\n",
      "  warnings.warn(msg, UserWarning)\n"
     ]
    }
   ],
   "source": [
    "import pandas as pd\n",
    "import numpy as np\n",
    "from sklearn.preprocessing import StandardScaler"
   ]
  },
  {
   "cell_type": "code",
   "execution_count": 2,
   "metadata": {},
   "outputs": [],
   "source": [
    "import csv\n",
    "import math\n",
    "import numpy as np\n",
    "import pandas as pd\n",
    "import tensorflow as tf\n",
    "from numpy import interp\n",
    "from scipy import interpolate\n",
    "import matplotlib.pyplot as plt"
   ]
  },
  {
   "cell_type": "code",
   "execution_count": 3,
   "metadata": {},
   "outputs": [],
   "source": [
    "from sklearn.metrics import roc_curve, auc\n",
    "from sklearn.model_selection import StratifiedKFold, KFold\n",
    "from sklearn.naive_bayes import BernoulliNB\n",
    "from sklearn.neighbors import KNeighborsClassifier\n",
    "from sklearn.preprocessing import StandardScaler\n",
    "from sklearn.ensemble import RandomForestClassifier, AdaBoostClassifier"
   ]
  },
  {
   "cell_type": "code",
   "execution_count": 4,
   "metadata": {},
   "outputs": [],
   "source": [
    "from sklearn.metrics import matthews_corrcoef\n",
    "from sklearn.metrics import confusion_matrix\n",
    "from sklearn.neural_network import MLPClassifier\n",
    "from sklearn.svm import SVC\n",
    "from sklearn.decomposition import PCA\n",
    "from sklearn import datasets, metrics"
   ]
  },
  {
   "cell_type": "code",
   "execution_count": 5,
   "metadata": {},
   "outputs": [],
   "source": [
    "dataset = pd.read_csv(\"data.csv\")"
   ]
  },
  {
   "cell_type": "code",
   "execution_count": 6,
   "metadata": {},
   "outputs": [
    {
     "data": {
      "text/html": [
       "<div>\n",
       "<style scoped>\n",
       "    .dataframe tbody tr th:only-of-type {\n",
       "        vertical-align: middle;\n",
       "    }\n",
       "\n",
       "    .dataframe tbody tr th {\n",
       "        vertical-align: top;\n",
       "    }\n",
       "\n",
       "    .dataframe thead th {\n",
       "        text-align: right;\n",
       "    }\n",
       "</style>\n",
       "<table border=\"1\" class=\"dataframe\">\n",
       "  <thead>\n",
       "    <tr style=\"text-align: right;\">\n",
       "      <th></th>\n",
       "      <th>3480</th>\n",
       "      <th>32673</th>\n",
       "      <th>397747</th>\n",
       "      <th>5462487</th>\n",
       "      <th>30879</th>\n",
       "      <th>286282</th>\n",
       "      <th>3449018</th>\n",
       "      <th>353157</th>\n",
       "      <th>3236730</th>\n",
       "      <th>4550541</th>\n",
       "      <th>...</th>\n",
       "      <th>20.06688963</th>\n",
       "      <th>25.4180602</th>\n",
       "      <th>24.41471572.2</th>\n",
       "      <th>0.49</th>\n",
       "      <th>0.203333333</th>\n",
       "      <th>0.306666667</th>\n",
       "      <th>27.090301</th>\n",
       "      <th>15.38461538.2</th>\n",
       "      <th>24.74916388</th>\n",
       "      <th>1.1</th>\n",
       "    </tr>\n",
       "  </thead>\n",
       "  <tbody>\n",
       "    <tr>\n",
       "      <th>0</th>\n",
       "      <td>7175</td>\n",
       "      <td>97287</td>\n",
       "      <td>1716249</td>\n",
       "      <td>34136289</td>\n",
       "      <td>95015</td>\n",
       "      <td>1287808</td>\n",
       "      <td>22757626</td>\n",
       "      <td>1642907</td>\n",
       "      <td>22187280</td>\n",
       "      <td>31956173</td>\n",
       "      <td>...</td>\n",
       "      <td>23.262840</td>\n",
       "      <td>21.299094</td>\n",
       "      <td>23.867069</td>\n",
       "      <td>0.396682</td>\n",
       "      <td>0.336350</td>\n",
       "      <td>0.266968</td>\n",
       "      <td>25.981873</td>\n",
       "      <td>21.752266</td>\n",
       "      <td>19.033233</td>\n",
       "      <td>1</td>\n",
       "    </tr>\n",
       "    <tr>\n",
       "      <th>1</th>\n",
       "      <td>6871</td>\n",
       "      <td>91233</td>\n",
       "      <td>1600221</td>\n",
       "      <td>31679037</td>\n",
       "      <td>91177</td>\n",
       "      <td>1191126</td>\n",
       "      <td>20673692</td>\n",
       "      <td>1587329</td>\n",
       "      <td>20527392</td>\n",
       "      <td>31104283</td>\n",
       "      <td>...</td>\n",
       "      <td>23.088456</td>\n",
       "      <td>21.289355</td>\n",
       "      <td>22.938531</td>\n",
       "      <td>0.357784</td>\n",
       "      <td>0.414671</td>\n",
       "      <td>0.227545</td>\n",
       "      <td>23.688156</td>\n",
       "      <td>22.788606</td>\n",
       "      <td>17.691154</td>\n",
       "      <td>1</td>\n",
       "    </tr>\n",
       "    <tr>\n",
       "      <th>2</th>\n",
       "      <td>3183</td>\n",
       "      <td>28624</td>\n",
       "      <td>335612</td>\n",
       "      <td>4433830</td>\n",
       "      <td>27680</td>\n",
       "      <td>247228</td>\n",
       "      <td>2882104</td>\n",
       "      <td>311600</td>\n",
       "      <td>2768528</td>\n",
       "      <td>3946250</td>\n",
       "      <td>...</td>\n",
       "      <td>20.071685</td>\n",
       "      <td>24.372760</td>\n",
       "      <td>23.297491</td>\n",
       "      <td>0.346429</td>\n",
       "      <td>0.360714</td>\n",
       "      <td>0.292857</td>\n",
       "      <td>26.881720</td>\n",
       "      <td>24.731183</td>\n",
       "      <td>22.580645</td>\n",
       "      <td>1</td>\n",
       "    </tr>\n",
       "    <tr>\n",
       "      <th>3</th>\n",
       "      <td>2860</td>\n",
       "      <td>25432</td>\n",
       "      <td>293704</td>\n",
       "      <td>3814654</td>\n",
       "      <td>24851</td>\n",
       "      <td>223361</td>\n",
       "      <td>2597043</td>\n",
       "      <td>275629</td>\n",
       "      <td>2474713</td>\n",
       "      <td>3414863</td>\n",
       "      <td>...</td>\n",
       "      <td>24.632353</td>\n",
       "      <td>20.220588</td>\n",
       "      <td>19.117647</td>\n",
       "      <td>0.377289</td>\n",
       "      <td>0.380952</td>\n",
       "      <td>0.241758</td>\n",
       "      <td>25.367647</td>\n",
       "      <td>23.161765</td>\n",
       "      <td>19.852941</td>\n",
       "      <td>1</td>\n",
       "    </tr>\n",
       "    <tr>\n",
       "      <th>4</th>\n",
       "      <td>5429</td>\n",
       "      <td>66386</td>\n",
       "      <td>1057160</td>\n",
       "      <td>18992930</td>\n",
       "      <td>67911</td>\n",
       "      <td>827360</td>\n",
       "      <td>13142530</td>\n",
       "      <td>1114293</td>\n",
       "      <td>13508366</td>\n",
       "      <td>20478429</td>\n",
       "      <td>...</td>\n",
       "      <td>24.647887</td>\n",
       "      <td>20.598592</td>\n",
       "      <td>21.830986</td>\n",
       "      <td>0.434095</td>\n",
       "      <td>0.304042</td>\n",
       "      <td>0.261863</td>\n",
       "      <td>24.119718</td>\n",
       "      <td>21.126761</td>\n",
       "      <td>18.838028</td>\n",
       "      <td>1</td>\n",
       "    </tr>\n",
       "  </tbody>\n",
       "</table>\n",
       "<p>5 rows × 196 columns</p>\n",
       "</div>"
      ],
      "text/plain": [
       "   3480  32673   397747   5462487  30879   286282   3449018   353157  \\\n",
       "0  7175  97287  1716249  34136289  95015  1287808  22757626  1642907   \n",
       "1  6871  91233  1600221  31679037  91177  1191126  20673692  1587329   \n",
       "2  3183  28624   335612   4433830  27680   247228   2882104   311600   \n",
       "3  2860  25432   293704   3814654  24851   223361   2597043   275629   \n",
       "4  5429  66386  1057160  18992930  67911   827360  13142530  1114293   \n",
       "\n",
       "    3236730   4550541  ...  20.06688963  25.4180602  24.41471572.2      0.49  \\\n",
       "0  22187280  31956173  ...    23.262840   21.299094      23.867069  0.396682   \n",
       "1  20527392  31104283  ...    23.088456   21.289355      22.938531  0.357784   \n",
       "2   2768528   3946250  ...    20.071685   24.372760      23.297491  0.346429   \n",
       "3   2474713   3414863  ...    24.632353   20.220588      19.117647  0.377289   \n",
       "4  13508366  20478429  ...    24.647887   20.598592      21.830986  0.434095   \n",
       "\n",
       "   0.203333333  0.306666667  27.090301  15.38461538.2  24.74916388  1.1  \n",
       "0     0.336350     0.266968  25.981873      21.752266    19.033233    1  \n",
       "1     0.414671     0.227545  23.688156      22.788606    17.691154    1  \n",
       "2     0.360714     0.292857  26.881720      24.731183    22.580645    1  \n",
       "3     0.380952     0.241758  25.367647      23.161765    19.852941    1  \n",
       "4     0.304042     0.261863  24.119718      21.126761    18.838028    1  \n",
       "\n",
       "[5 rows x 196 columns]"
      ]
     },
     "execution_count": 6,
     "metadata": {},
     "output_type": "execute_result"
    }
   ],
   "source": [
    "from sklearn import preprocessing\n",
    "import pandas as pd\n",
    "dataset= pd.read_csv(\"data.csv\")\n",
    "dataset.head()"
   ]
  },
  {
   "cell_type": "code",
   "execution_count": 7,
   "metadata": {},
   "outputs": [
    {
     "name": "stdout",
     "output_type": "stream",
     "text": [
      "The shape of X is: (634, 195)\n",
      "The shape of Y is: (634, 1)\n"
     ]
    }
   ],
   "source": [
    "random_state = np.random.RandomState(5)\n",
    "inputSize = 195\n",
    "outputCol = inputSize + 1\n",
    "results = pd.DataFrame(columns=['training_score', 'test_score'])\n",
    "fprs, tprs, scores = [], [], []\n",
    "dataset = np.genfromtxt(\"./data.csv\", delimiter=\",\", dtype=float)\n",
    "X = dataset[:, 0:inputSize]\n",
    "Y = dataset[:, inputSize:outputCol]\n",
    "std_scale = StandardScaler().fit(X)\n",
    "X = std_scale.transform(X)\n",
    "cvscores = []\n",
    "shape_X=X.shape\n",
    "shape_Y=Y.shape\n",
    "print ('The shape of X is: ' + str(shape_X))\n",
    "print ('The shape of Y is: ' + str(shape_Y))"
   ]
  },
  {
   "cell_type": "code",
   "execution_count": 8,
   "metadata": {},
   "outputs": [],
   "source": [
    "# Run classifier with cross-validation and plot ROC curves\n",
    "cv = StratifiedKFold(n_splits=10, shuffle=True)\n",
    "#classifier = BernoulliNB()\n",
    " #classifier = algorithms.PNN(std=10, verbose=False)\n",
    "# classifier = AdaBoostClassifier(n_estimators=100)\n",
    "#clf = SVC(kernel='linear', probability=True)\n",
    "#classifier = KNeighborsClassifier(n_neighbors=150)\n",
    "#clf = RandomForestClassifier(n_estimators=3, oob_score=True, random_state=29, warm_start=False)\n",
    "clf = MLPClassifier(solver='lbfgs', alpha=1e-5,hidden_layer_sizes=(9, 2), random_state=1)\n",
    "tprs = []\n",
    "aucs = []\n",
    "mean_fpr = np.linspace(0, 1, 100)"
   ]
  },
  {
   "cell_type": "code",
   "execution_count": 9,
   "metadata": {},
   "outputs": [
    {
     "name": "stdout",
     "output_type": "stream",
     "text": [
      "\n",
      "Independent testing\n",
      "training dataset 80%\n",
      "(507, 195) (507, 1)\n",
      "testing dataset 20%\n",
      "(127, 195) (127, 1)\n",
      "\n",
      "Independent training data set confusion matrix\n",
      "['True Negative =', 77, 'False Positive =', 178, 'False Negative =', 42, 'True Positive =', 210, 'Accuracy =', 56.61]\n",
      "['Accuracy =', 56.61, 'Sensitivity =', 1.0, 'Precession =', 1.0, 'MCC =', 0.0]\n"
     ]
    },
    {
     "name": "stderr",
     "output_type": "stream",
     "text": [
      "C:\\Users\\HP\\AppData\\Local\\Continuum\\anaconda3\\lib\\site-packages\\sklearn\\neural_network\\_multilayer_perceptron.py:500: ConvergenceWarning: lbfgs failed to converge (status=1):\n",
      "STOP: TOTAL NO. of ITERATIONS REACHED LIMIT.\n",
      "\n",
      "Increase the number of iterations (max_iter) or scale the data as shown in:\n",
      "    https://scikit-learn.org/stable/modules/preprocessing.html\n",
      "  self.n_iter_ = _check_optimize_result(\"lbfgs\", opt_res, self.max_iter)\n"
     ]
    },
    {
     "name": "stdout",
     "output_type": "stream",
     "text": [
      "\n",
      "Independent testing  data set confusion matrix\n",
      "['True Negative =', 45, 'False Positive =', 17, 'False Negative =', 17, 'True Positive =', 48, 'Accuracy =', 73.23]\n",
      "['Accuracy =', 73.23, 'Sensitivity =', 1.0, 'Precession =', 1.0, 'MCC =', 0.0]\n"
     ]
    },
    {
     "data": {
      "image/png": "[encoded data removed]",
      "text/plain": [
       "<Figure size 432x288 with 1 Axes>"
      ]
     },
     "metadata": {
      "needs_background": "light"
     },
     "output_type": "display_data"
    }
   ],
   "source": [
    "from sklearn.model_selection import train_test_split\n",
    "print('\\nIndependent testing')\n",
    "# resultwriter.writerow(['\\n\\rindependent testing'])\n",
    "# create training and testing vars\n",
    "X_train, X_test, y_train, y_test = train_test_split(X, Y, test_size=0.2)\n",
    "# train dataset\n",
    "print(\"training dataset 80%\")\n",
    "print(X_train.shape, y_train.shape)\n",
    "# test dataset\n",
    "print(\"testing dataset 20%\")\n",
    "print(X_test.shape, y_test.shape)\n",
    "# train the model\n",
    "std_scale = StandardScaler().fit(X_train)\n",
    "X_train = np.array(X_train, dtype='float32')\n",
    "X_train = std_scale.transform(X_train)\n",
    "# X_train = std_scale.transform(X_train)\n",
    "# X_train = np.array(X_train,dtype='float32')\n",
    "X_train = X_train[:, ~np.isnan(X_train).any(axis=0)]\n",
    "pca = PCA(n_components=2)\n",
    "pca.fit(X_train)\n",
    "X_train = pca.transform(X_train)\n",
    "#clf = RandomForestClassifier(n_estimators=25, max_depth=16, oob_score=True, n_jobs=-1, warm_start=True).fit(X_train, y_train.ravel())\n",
    "clf = MLPClassifier(solver='lbfgs', alpha=1e-5,hidden_layer_sizes=(7, 2), random_state=3).fit(X_train, y_train.ravel()) \n",
    "#clf = SVC(kernel='linear', probability=True). fit(X_train, y_train.ravel())\n",
    "pred = np.round(clf.predict(X_train)) #clf\n",
    "tn, fp, fn, tp = confusion_matrix(y_train, pred, labels=[1, 0]).ravel()\n",
    "acc = np.round(((tn + tp) / (tn + fp + fn + tp)) * 100, 2)\n",
    "sn=np.round(tp/(tp+fn))\n",
    "sp=np.round(tn/(tn+fp))\n",
    "prec=np.round(tp/(tp+fp))\n",
    "mcc=np.round((tp*tn-fp*fn)/(math.sqrt((tp+fp)*(tp+fn)*(tn+fn)*(tn+fn))))\n",
    "print(\"\\nIndependent training data set confusion matrix\")\n",
    "print(\n",
    "    (['True Negative =', tn, 'False Positive =', fp, 'False Negative =', fn, 'True Positive =', tp, 'Accuracy =', acc]))\n",
    "print(\n",
    "    (['Accuracy =', acc, 'Sensitivity =', sn, 'Precession =', prec, 'MCC =', mcc]))\n",
    "\n",
    "# now test the model\n",
    "std_scale = StandardScaler().fit(X_test)\n",
    "X_test = std_scale.transform(X_test)\n",
    "pca = PCA(n_components=2)\n",
    "pca.fit(X_test)\n",
    "X_test = pca.transform(X_test)\n",
    "#clf = RandomForestClassifier(n_estimators=25, max_depth=12, oob_score=True, n_jobs=-1, warm_start=True).fit(X_test, y_test.ravel())\n",
    "clf = MLPClassifier(solver='lbfgs', alpha=1e-5,hidden_layer_sizes=(7, 2), random_state=1).fit(X_test, y_test.ravel())\n",
    "#clf = SVC(kernel='linear', probability=True).fit(X_test, y_test.ravel())\n",
    "pred_test = np.round(clf.predict(X_test)) # clf\n",
    "tn1, fp1, fn1, tp1 = confusion_matrix(y_test, pred_test, labels=[1, 0]).ravel()\n",
    "acc1 = np.round(((tn1 + tp1) / (tn1 + fp1 + fn1 + tp1)) * 100, 2)\n",
    "sn1=np.round(tp1/(tp1+fn1))\n",
    "sp1=np.round(tn/(tn1+fp1))\n",
    "prec1=np.round(tp1/(tp1+fp1))\n",
    "mcc1=np.round((tp1*tn1-fp1*fn1)/(math.sqrt((tp1+fp1)*(tp1+fn1)*(tn1+fn1)*(tn1+fn1))))\n",
    "print(\"\\nIndependent testing  data set confusion matrix\")\n",
    "print((['True Negative =', tn1, 'False Positive =', fp1, 'False Negative =', fn1, 'True Positive =', tp1, 'Accuracy =',\n",
    "        acc1]))\n",
    "print(\n",
    "    (['Accuracy =', acc1, 'Sensitivity =', sn1, 'Precession =', prec1, 'MCC =', mcc1]))\n",
    "with open('./result2.csv', 'w', newline='') as csvfile:\n",
    "    resultwriter = csv.writer(csvfile, delimiter=',', quotechar='|')\n",
    "    resultwriter.writerow(['Independent testing'])\n",
    "    resultwriter.writerow(['training dataset 70%'])\n",
    "    resultwriter.writerow([X_train.shape, y_train.shape])\n",
    "    resultwriter.writerow(['testing dataset 30%'])\n",
    "    resultwriter.writerow([X_test.shape, y_test.shape])\n",
    "    resultwriter.writerow([\"training data set confusion matrix\"])\n",
    "    resultwriter.writerow((\n",
    "                          ['True Negative =', tn, 'False Positive =', fp, 'False Negative =', fn, 'True Positive =', tp,\n",
    "                           'Accuracy =', acc]))\n",
    "    resultwriter.writerow((['testing  data set confusion matrix']))\n",
    "    resultwriter.writerow((['True Negative =', tn1, 'False Positive =', fp1, 'False Negative =', fn1, 'True Positive =',\n",
    "                            tp1, 'Accuracy =', acc1]))\n",
    "from matplotlib import pyplot\n",
    "\n",
    "ns_probs1 = [0 for _ in range(len(y_test))]\n",
    "lr_probs1 = clf.predict_proba(X_test) #clf\n",
    "# keep probabilities for the positive outcome only\n",
    "lr_probs1 = lr_probs1[:, 1]\n",
    "\n",
    "# calculate roc curves\n",
    "ns_fpr3, ns_tpr3, _ = roc_curve(y_test, ns_probs1)\n",
    "lr_fpr3, lr_tpr3, _ = roc_curve(y_test, lr_probs1)\n",
    "\n",
    "# plot the roc curve for the model\n",
    "pyplot.plot(ns_fpr3, ns_tpr3, linestyle='--')\n",
    "pyplot.plot(lr_fpr3, lr_tpr3, marker='.', label='Independent Testing')\n",
    "# axis labels\n",
    "pyplot.xlabel('False Positive Rate')\n",
    "pyplot.ylabel('True Positive Rate')\n",
    "# show the legend\n",
    "pyplot.legend()\n",
    "# show the plot\n",
    "pyplot.show()\n",
    "\n"
   ]
  },
  {
   "cell_type": "code",
   "execution_count": 10,
   "metadata": {},
   "outputs": [
    {
     "name": "stdout",
     "output_type": "stream",
     "text": [
      "\n",
      "10-fold Cross Validation\n",
      "\n",
      "Fold : 1\n"
     ]
    },
    {
     "name": "stderr",
     "output_type": "stream",
     "text": [
      "C:\\Users\\HP\\AppData\\Local\\Continuum\\anaconda3\\lib\\site-packages\\sklearn\\neural_network\\_multilayer_perceptron.py:500: ConvergenceWarning: lbfgs failed to converge (status=1):\n",
      "STOP: TOTAL NO. of ITERATIONS REACHED LIMIT.\n",
      "\n",
      "Increase the number of iterations (max_iter) or scale the data as shown in:\n",
      "    https://scikit-learn.org/stable/modules/preprocessing.html\n",
      "  self.n_iter_ = _check_optimize_result(\"lbfgs\", opt_res, self.max_iter)\n"
     ]
    },
    {
     "name": "stdout",
     "output_type": "stream",
     "text": [
      "[28, 4, 1, 31, 'Accuracy =', 92.19, 'Sensitivity =', 0.96875, 'Precession =', 0.8857142857142857, 'MCC =', 0.8902392400559621]\n",
      "\n",
      "\r",
      "Final 10CV Score =  9.22\n",
      "\n",
      "Fold : 2\n"
     ]
    },
    {
     "name": "stderr",
     "output_type": "stream",
     "text": [
      "C:\\Users\\HP\\AppData\\Local\\Continuum\\anaconda3\\lib\\site-packages\\sklearn\\neural_network\\_multilayer_perceptron.py:500: ConvergenceWarning: lbfgs failed to converge (status=1):\n",
      "STOP: TOTAL NO. of ITERATIONS REACHED LIMIT.\n",
      "\n",
      "Increase the number of iterations (max_iter) or scale the data as shown in:\n",
      "    https://scikit-learn.org/stable/modules/preprocessing.html\n",
      "  self.n_iter_ = _check_optimize_result(\"lbfgs\", opt_res, self.max_iter)\n"
     ]
    },
    {
     "name": "stdout",
     "output_type": "stream",
     "text": [
      "[29, 3, 0, 32, 'Accuracy =', 95.31, 'Sensitivity =', 1.0, 'Precession =', 0.9142857142857143, 'MCC =', 0.9561828874675149]\n",
      "\n",
      "\r",
      "Final 10CV Score =  18.75\n",
      "\n",
      "Fold : 3\n"
     ]
    },
    {
     "name": "stderr",
     "output_type": "stream",
     "text": [
      "C:\\Users\\HP\\AppData\\Local\\Continuum\\anaconda3\\lib\\site-packages\\sklearn\\neural_network\\_multilayer_perceptron.py:500: ConvergenceWarning: lbfgs failed to converge (status=1):\n",
      "STOP: TOTAL NO. of ITERATIONS REACHED LIMIT.\n",
      "\n",
      "Increase the number of iterations (max_iter) or scale the data as shown in:\n",
      "    https://scikit-learn.org/stable/modules/preprocessing.html\n",
      "  self.n_iter_ = _check_optimize_result(\"lbfgs\", opt_res, self.max_iter)\n"
     ]
    },
    {
     "name": "stdout",
     "output_type": "stream",
     "text": [
      "[29, 3, 1, 31, 'Accuracy =', 93.75, 'Sensitivity =', 0.96875, 'Precession =', 0.9117647058823529, 'MCC =', 0.9054663334689764]\n",
      "\n",
      "\r",
      "Final 10CV Score =  28.12\n",
      "\n",
      "Fold : 4\n"
     ]
    },
    {
     "name": "stderr",
     "output_type": "stream",
     "text": [
      "C:\\Users\\HP\\AppData\\Local\\Continuum\\anaconda3\\lib\\site-packages\\sklearn\\neural_network\\_multilayer_perceptron.py:500: ConvergenceWarning: lbfgs failed to converge (status=1):\n",
      "STOP: TOTAL NO. of ITERATIONS REACHED LIMIT.\n",
      "\n",
      "Increase the number of iterations (max_iter) or scale the data as shown in:\n",
      "    https://scikit-learn.org/stable/modules/preprocessing.html\n",
      "  self.n_iter_ = _check_optimize_result(\"lbfgs\", opt_res, self.max_iter)\n"
     ]
    },
    {
     "name": "stdout",
     "output_type": "stream",
     "text": [
      "[30, 2, 3, 29, 'Accuracy =', 92.19, 'Sensitivity =', 0.90625, 'Precession =', 0.9354838709677419, 'MCC =', 0.8312735585467015]\n",
      "\n",
      "\r",
      "Final 10CV Score =  37.34\n",
      "\n",
      "Fold : 5\n"
     ]
    },
    {
     "name": "stderr",
     "output_type": "stream",
     "text": [
      "C:\\Users\\HP\\AppData\\Local\\Continuum\\anaconda3\\lib\\site-packages\\sklearn\\neural_network\\_multilayer_perceptron.py:500: ConvergenceWarning: lbfgs failed to converge (status=1):\n",
      "STOP: TOTAL NO. of ITERATIONS REACHED LIMIT.\n",
      "\n",
      "Increase the number of iterations (max_iter) or scale the data as shown in:\n",
      "    https://scikit-learn.org/stable/modules/preprocessing.html\n",
      "  self.n_iter_ = _check_optimize_result(\"lbfgs\", opt_res, self.max_iter)\n"
     ]
    },
    {
     "name": "stdout",
     "output_type": "stream",
     "text": [
      "[31, 1, 1, 30, 'Accuracy =', 96.83, 'Sensitivity =', 0.967741935483871, 'Precession =', 0.967741935483871, 'MCC =', 0.936491935483871]\n",
      "\n",
      "\r",
      "Final 10CV Score =  47.03\n",
      "\n",
      "Fold : 6\n"
     ]
    },
    {
     "name": "stderr",
     "output_type": "stream",
     "text": [
      "C:\\Users\\HP\\AppData\\Local\\Continuum\\anaconda3\\lib\\site-packages\\sklearn\\neural_network\\_multilayer_perceptron.py:500: ConvergenceWarning: lbfgs failed to converge (status=1):\n",
      "STOP: TOTAL NO. of ITERATIONS REACHED LIMIT.\n",
      "\n",
      "Increase the number of iterations (max_iter) or scale the data as shown in:\n",
      "    https://scikit-learn.org/stable/modules/preprocessing.html\n",
      "  self.n_iter_ = _check_optimize_result(\"lbfgs\", opt_res, self.max_iter)\n"
     ]
    },
    {
     "name": "stdout",
     "output_type": "stream",
     "text": [
      "[31, 1, 1, 30, 'Accuracy =', 96.83, 'Sensitivity =', 0.967741935483871, 'Precession =', 0.967741935483871, 'MCC =', 0.936491935483871]\n",
      "\n",
      "\r",
      "Final 10CV Score =  56.71\n",
      "\n",
      "Fold : 7\n"
     ]
    },
    {
     "name": "stderr",
     "output_type": "stream",
     "text": [
      "C:\\Users\\HP\\AppData\\Local\\Continuum\\anaconda3\\lib\\site-packages\\sklearn\\neural_network\\_multilayer_perceptron.py:500: ConvergenceWarning: lbfgs failed to converge (status=1):\n",
      "STOP: TOTAL NO. of ITERATIONS REACHED LIMIT.\n",
      "\n",
      "Increase the number of iterations (max_iter) or scale the data as shown in:\n",
      "    https://scikit-learn.org/stable/modules/preprocessing.html\n",
      "  self.n_iter_ = _check_optimize_result(\"lbfgs\", opt_res, self.max_iter)\n"
     ]
    },
    {
     "name": "stdout",
     "output_type": "stream",
     "text": [
      "[30, 2, 1, 30, 'Accuracy =', 95.24, 'Sensitivity =', 0.967741935483871, 'Precession =', 0.9375, 'MCC =', 0.919726726178799]\n",
      "\n",
      "\r",
      "Final 10CV Score =  66.23\n",
      "\n",
      "Fold : 8\n"
     ]
    },
    {
     "name": "stderr",
     "output_type": "stream",
     "text": [
      "C:\\Users\\HP\\AppData\\Local\\Continuum\\anaconda3\\lib\\site-packages\\sklearn\\neural_network\\_multilayer_perceptron.py:500: ConvergenceWarning: lbfgs failed to converge (status=1):\n",
      "STOP: TOTAL NO. of ITERATIONS REACHED LIMIT.\n",
      "\n",
      "Increase the number of iterations (max_iter) or scale the data as shown in:\n",
      "    https://scikit-learn.org/stable/modules/preprocessing.html\n",
      "  self.n_iter_ = _check_optimize_result(\"lbfgs\", opt_res, self.max_iter)\n"
     ]
    },
    {
     "name": "stdout",
     "output_type": "stream",
     "text": [
      "[30, 1, 1, 31, 'Accuracy =', 96.83, 'Sensitivity =', 0.96875, 'Precession =', 0.96875, 'MCC =', 0.936491935483871]\n",
      "\n",
      "\r",
      "Final 10CV Score =  75.92\n",
      "\n",
      "Fold : 9\n"
     ]
    },
    {
     "name": "stderr",
     "output_type": "stream",
     "text": [
      "C:\\Users\\HP\\AppData\\Local\\Continuum\\anaconda3\\lib\\site-packages\\sklearn\\neural_network\\_multilayer_perceptron.py:500: ConvergenceWarning: lbfgs failed to converge (status=1):\n",
      "STOP: TOTAL NO. of ITERATIONS REACHED LIMIT.\n",
      "\n",
      "Increase the number of iterations (max_iter) or scale the data as shown in:\n",
      "    https://scikit-learn.org/stable/modules/preprocessing.html\n",
      "  self.n_iter_ = _check_optimize_result(\"lbfgs\", opt_res, self.max_iter)\n"
     ]
    },
    {
     "name": "stdout",
     "output_type": "stream",
     "text": [
      "[29, 2, 0, 32, 'Accuracy =', 96.83, 'Sensitivity =', 1.0, 'Precession =', 0.9411764705882353, 'MCC =', 0.9701425001453319]\n",
      "\n",
      "\r",
      "Final 10CV Score =  85.6\n",
      "\n",
      "Fold : 10\n"
     ]
    },
    {
     "name": "stderr",
     "output_type": "stream",
     "text": [
      "C:\\Users\\HP\\AppData\\Local\\Continuum\\anaconda3\\lib\\site-packages\\sklearn\\neural_network\\_multilayer_perceptron.py:500: ConvergenceWarning: lbfgs failed to converge (status=1):\n",
      "STOP: TOTAL NO. of ITERATIONS REACHED LIMIT.\n",
      "\n",
      "Increase the number of iterations (max_iter) or scale the data as shown in:\n",
      "    https://scikit-learn.org/stable/modules/preprocessing.html\n",
      "  self.n_iter_ = _check_optimize_result(\"lbfgs\", opt_res, self.max_iter)\n"
     ]
    },
    {
     "name": "stdout",
     "output_type": "stream",
     "text": [
      "[30, 1, 1, 31, 'Accuracy =', 96.83, 'Sensitivity =', 0.96875, 'Precession =', 0.96875, 'MCC =', 0.936491935483871]\n",
      "\n",
      "\r",
      "Final 10CV Score =  95.28\n"
     ]
    },
    {
     "data": {
      "image/png": "[encoded data removed]",
      "text/plain": [
       "<Figure size 432x288 with 1 Axes>"
      ]
     },
     "metadata": {
      "needs_background": "light"
     },
     "output_type": "display_data"
    }
   ],
   "source": [
    "print('\\n10-fold Cross Validation')\n",
    "self_scores = []\n",
    "tn, fp, fn, tp = confusion_matrix(y_train, pred, labels=[1, 0]).ravel()\n",
    "self_scores.append([tn, fp, fn, tp, acc])\n",
    "kfold = StratifiedKFold(n_splits=10, shuffle=True)\n",
    "cvscores = []\n",
    "iterator = 1\n",
    "cv_score = 0\n",
    "for train, test in kfold.split(X, Y):\n",
    "    print('\\nFold : ' + str(iterator))\n",
    "    #clf = RandomForestClassifier(n_estimators=25, max_depth=25, oob_score=True, n_jobs=-1, warm_start=True).fit(X, Y.ravel())\n",
    "    clf = MLPClassifier(solver='lbfgs', alpha=1e-5,hidden_layer_sizes=(5, 2), random_state=1).fit(X, Y.ravel())\n",
    "    #clf= SVC(kernel='linear', probability=True).fit(X, Y.ravel())\n",
    "    pred = np.round(clf.predict(X[test])) # clf\n",
    "    tn, fp, fn, tp = confusion_matrix(Y[test], pred, labels=[1, 0]).ravel()\n",
    "    acc = np.round(((tn + tp) / (tn + fp + fn + tp)) * 100, 2)\n",
    "    sn=(tp/(tp+fn))\n",
    "    sp=(tn/(tn+fp))\n",
    "    prec=(tp/(tp+fp))\n",
    "    mcc=((tp*tn-fp*fn)/(math.sqrt((tp+fp)*(tp+fn)*(tn+fn)*(tn+fn))))\n",
    "    cvscores.append([tn, fp, fn, tp, acc, sn, sp, prec, mcc])\n",
    "    iterator = iterator + 1\n",
    "    print([tn, fp, fn, tp, 'Accuracy =', acc, 'Sensitivity =', sn, 'Precession =', prec, 'MCC =', mcc])\n",
    "    cv_score = cv_score + acc\n",
    "    print('\\n\\rFinal 10CV Score = ', np.round(cv_score / kfold.n_splits, 2))\n",
    "with open('./result1.csv', 'w', newline='') as csvfile:\n",
    "    resultwriter = csv.writer(csvfile, delimiter=',', quotechar='|')\n",
    "    resultwriter.writerow(['Self-Consistency'])\n",
    "    resultwriter.writerow(['True Negative', 'False Positive', 'False Negative', 'True Positive', 'Accuracy'])\n",
    "    resultwriter.writerow(self_scores)\n",
    "    resultwriter.writerow(['\\n10-fold Cross Validation'])\n",
    "    resultwriter.writerow(['True Negative', 'False Positive', 'False Negative', 'True Positive', 'Accuracy'])\n",
    "    for i in range(cvscores.__len__()):\n",
    "        resultwriter.writerow(cvscores[i])\n",
    "    resultwriter.writerow(['The Final 10CV Score', '', '', '', np.round(cv_score / kfold.n_splits, 2)])\n",
    "\n",
    "from matplotlib import pyplot\n",
    "\n",
    "ns_probs1 = [0 for _ in range(len(Y))]\n",
    "lr_probs1 = clf.predict_proba(X)# clf\n",
    "# keep probabilities for the positive outcome only\n",
    "lr_probs1 = lr_probs1[:, 1]\n",
    "# calculate roc curves\n",
    "ns_fpr2, ns_tpr2, _ = roc_curve(Y, ns_probs1)\n",
    "lr_fpr2, lr_tpr2, _ = roc_curve(Y, lr_probs1)\n",
    "# plot the roc curve for the model\n",
    "pyplot.plot(ns_fpr2, ns_tpr2, linestyle='--')\n",
    "pyplot.plot(lr_fpr2, lr_tpr2, marker='.', label='10-fold Cross Validation')\n",
    "# axis labels\n",
    "pyplot.xlabel('False Positive Rate')\n",
    "pyplot.ylabel('True Positive Rate')\n",
    "# show the legend\n",
    "pyplot.legend()\n",
    "# show the plot\n",
    "pyplot.show()"
   ]
  },
  {
   "cell_type": "markdown",
   "metadata": {},
   "source": [
    "# Self Consistency"
   ]
  },
  {
   "cell_type": "code",
   "execution_count": 11,
   "metadata": {},
   "outputs": [
    {
     "name": "stdout",
     "output_type": "stream",
     "text": [
      "\n",
      "Self-Consistency\n"
     ]
    },
    {
     "name": "stderr",
     "output_type": "stream",
     "text": [
      "C:\\Users\\HP\\AppData\\Local\\Continuum\\anaconda3\\lib\\site-packages\\sklearn\\neural_network\\_multilayer_perceptron.py:500: ConvergenceWarning: lbfgs failed to converge (status=1):\n",
      "STOP: TOTAL NO. of ITERATIONS REACHED LIMIT.\n",
      "\n",
      "Increase the number of iterations (max_iter) or scale the data as shown in:\n",
      "    https://scikit-learn.org/stable/modules/preprocessing.html\n",
      "  self.n_iter_ = _check_optimize_result(\"lbfgs\", opt_res, self.max_iter)\n"
     ]
    },
    {
     "name": "stdout",
     "output_type": "stream",
     "text": [
      "[297, 20, 10, 307, 95.27, 0.9684542586750788, 'Accuracy =', 95.27, 'specificity=', 0.9369085173501577, 'Sensitivity =', 0.9684542586750788, 'Precession =', 0.9388379204892966, 'MCC =', 0.920448037374424]\n"
     ]
    },
    {
     "data": {
      "image/png": "[encoded data removed]",
      "text/plain": [
       "<Figure size 432x288 with 1 Axes>"
      ]
     },
     "metadata": {
      "needs_background": "light"
     },
     "output_type": "display_data"
    },
    {
     "data": {
      "text/plain": [
       "95.27"
      ]
     },
     "execution_count": 11,
     "metadata": {},
     "output_type": "execute_result"
    }
   ],
   "source": [
    "import matplotlib.pyplot as pyplot\n",
    "print('\\nSelf-Consistency')\n",
    "#clf = RandomForestClassifier(n_estimators=16, max_depth=40, oob_score=True, n_jobs=-1, warm_start=True).fit(X, Y.ravel())\n",
    "clf = MLPClassifier(solver='lbfgs', alpha=1e-5,hidden_layer_sizes=(5, 2), random_state=1).fit(X, Y.ravel())\n",
    "#clf= SVC(kernel='linear', probability=True).fit(X, Y.ravel())\n",
    "pred = np.round(clf.predict(X)) # clf\n",
    "tn, fp, fn, tp = confusion_matrix(Y, pred, labels=[1, 0]).ravel()\n",
    "acc = np.round(((tn + tp) / (tn + fp + fn + tp)) * 100, 2)\n",
    "sn=(tp/(tp+fn))\n",
    "sp=(tn/(tn+fp))\n",
    "prec=(tp/(tp+fp))\n",
    "mcc=((tp*tn-fp*fn)/(math.sqrt((tp+fp)*(tp+fn)*(tn+fn)*(tn+fn))))\n",
    "print([tn, fp, fn, tp, acc, sn, 'Accuracy =', acc, 'specificity=', sp, 'Sensitivity =', sn, 'Precession =', prec, 'MCC =', mcc ])\n",
    "ns_probs1 = [0 for _ in range(len(Y))]\n",
    "lr_probs1 = clf.predict_proba(X) # clf\n",
    "# keep probabilities for the positive outcome only\n",
    "lr_probs1 = lr_probs1[:, 1]\n",
    "ns_fpr1, ns_tpr1, _ = roc_curve(Y, ns_probs1)\n",
    "lr_fpr1, lr_tpr1, _ = roc_curve(Y, lr_probs1)\n",
    "# plot the roc curve for the model\n",
    "pyplot.plot(ns_fpr1, ns_tpr1, linestyle='--')\n",
    "pyplot.plot(lr_fpr1, lr_tpr1, marker='.', label='Self-Consistency')\n",
    "# axis labels\n",
    "pyplot.xlabel('False Positive Rate')\n",
    "pyplot.ylabel('True Positive Rate')\n",
    "# show the legend\n",
    "pyplot.legend()\n",
    "# show the plot\n",
    "pyplot.show()\n",
    "acc"
   ]
  },
  {
   "cell_type": "markdown",
   "metadata": {},
   "source": [
    "# Jacknife testing"
   ]
  },
  {
   "cell_type": "code",
   "execution_count": 12,
   "metadata": {},
   "outputs": [
    {
     "name": "stdout",
     "output_type": "stream",
     "text": [
      "\n",
      "Jacknife testing\n",
      "\n",
      "Jacknife : 1\n"
     ]
    },
    {
     "name": "stderr",
     "output_type": "stream",
     "text": [
      "C:\\Users\\HP\\AppData\\Local\\Continuum\\anaconda3\\lib\\site-packages\\sklearn\\neural_network\\_multilayer_perceptron.py:500: ConvergenceWarning: lbfgs failed to converge (status=1):\n",
      "STOP: TOTAL NO. of ITERATIONS REACHED LIMIT.\n",
      "\n",
      "Increase the number of iterations (max_iter) or scale the data as shown in:\n",
      "    https://scikit-learn.org/stable/modules/preprocessing.html\n",
      "  self.n_iter_ = _check_optimize_result(\"lbfgs\", opt_res, self.max_iter)\n",
      "C:\\Users\\HP\\AppData\\Local\\Continuum\\anaconda3\\lib\\site-packages\\ipykernel_launcher.py:22: RuntimeWarning: invalid value encountered in longlong_scalars\n",
      "C:\\Users\\HP\\AppData\\Local\\Continuum\\anaconda3\\lib\\site-packages\\ipykernel_launcher.py:25: RuntimeWarning: invalid value encountered in true_divide\n"
     ]
    },
    {
     "name": "stdout",
     "output_type": "stream",
     "text": [
      "[29, 3, 0, 0, 'Accuracy =', 90.62, 'Sensitivity =', nan, 'specificity=', 1.0, 'Precession =', 0.0, 'MCC =', nan]\n",
      "\n",
      "Jacknife : 2\n"
     ]
    },
    {
     "name": "stderr",
     "output_type": "stream",
     "text": [
      "C:\\Users\\HP\\AppData\\Local\\Continuum\\anaconda3\\lib\\site-packages\\sklearn\\neural_network\\_multilayer_perceptron.py:500: ConvergenceWarning: lbfgs failed to converge (status=1):\n",
      "STOP: TOTAL NO. of ITERATIONS REACHED LIMIT.\n",
      "\n",
      "Increase the number of iterations (max_iter) or scale the data as shown in:\n",
      "    https://scikit-learn.org/stable/modules/preprocessing.html\n",
      "  self.n_iter_ = _check_optimize_result(\"lbfgs\", opt_res, self.max_iter)\n",
      "C:\\Users\\HP\\AppData\\Local\\Continuum\\anaconda3\\lib\\site-packages\\ipykernel_launcher.py:22: RuntimeWarning: invalid value encountered in longlong_scalars\n",
      "C:\\Users\\HP\\AppData\\Local\\Continuum\\anaconda3\\lib\\site-packages\\ipykernel_launcher.py:24: RuntimeWarning: invalid value encountered in longlong_scalars\n",
      "C:\\Users\\HP\\AppData\\Local\\Continuum\\anaconda3\\lib\\site-packages\\ipykernel_launcher.py:25: RuntimeWarning: invalid value encountered in true_divide\n"
     ]
    },
    {
     "name": "stdout",
     "output_type": "stream",
     "text": [
      "[32, 0, 0, 0, 'Accuracy =', 100.0, 'Sensitivity =', nan, 'specificity=', 1.0, 'Precession =', nan, 'MCC =', nan]\n",
      "\n",
      "Jacknife : 3\n"
     ]
    },
    {
     "name": "stderr",
     "output_type": "stream",
     "text": [
      "C:\\Users\\HP\\AppData\\Local\\Continuum\\anaconda3\\lib\\site-packages\\sklearn\\neural_network\\_multilayer_perceptron.py:500: ConvergenceWarning: lbfgs failed to converge (status=1):\n",
      "STOP: TOTAL NO. of ITERATIONS REACHED LIMIT.\n",
      "\n",
      "Increase the number of iterations (max_iter) or scale the data as shown in:\n",
      "    https://scikit-learn.org/stable/modules/preprocessing.html\n",
      "  self.n_iter_ = _check_optimize_result(\"lbfgs\", opt_res, self.max_iter)\n",
      "C:\\Users\\HP\\AppData\\Local\\Continuum\\anaconda3\\lib\\site-packages\\ipykernel_launcher.py:22: RuntimeWarning: invalid value encountered in longlong_scalars\n",
      "C:\\Users\\HP\\AppData\\Local\\Continuum\\anaconda3\\lib\\site-packages\\ipykernel_launcher.py:25: RuntimeWarning: invalid value encountered in true_divide\n"
     ]
    },
    {
     "name": "stdout",
     "output_type": "stream",
     "text": [
      "[28, 4, 0, 0, 'Accuracy =', 87.5, 'Sensitivity =', nan, 'specificity=', 1.0, 'Precession =', 0.0, 'MCC =', nan]\n",
      "\n",
      "Jacknife : 4\n"
     ]
    },
    {
     "name": "stderr",
     "output_type": "stream",
     "text": [
      "C:\\Users\\HP\\AppData\\Local\\Continuum\\anaconda3\\lib\\site-packages\\sklearn\\neural_network\\_multilayer_perceptron.py:500: ConvergenceWarning: lbfgs failed to converge (status=1):\n",
      "STOP: TOTAL NO. of ITERATIONS REACHED LIMIT.\n",
      "\n",
      "Increase the number of iterations (max_iter) or scale the data as shown in:\n",
      "    https://scikit-learn.org/stable/modules/preprocessing.html\n",
      "  self.n_iter_ = _check_optimize_result(\"lbfgs\", opt_res, self.max_iter)\n",
      "C:\\Users\\HP\\AppData\\Local\\Continuum\\anaconda3\\lib\\site-packages\\ipykernel_launcher.py:22: RuntimeWarning: invalid value encountered in longlong_scalars\n",
      "C:\\Users\\HP\\AppData\\Local\\Continuum\\anaconda3\\lib\\site-packages\\ipykernel_launcher.py:25: RuntimeWarning: invalid value encountered in true_divide\n"
     ]
    },
    {
     "name": "stdout",
     "output_type": "stream",
     "text": [
      "[30, 2, 0, 0, 'Accuracy =', 93.75, 'Sensitivity =', nan, 'specificity=', 1.0, 'Precession =', 0.0, 'MCC =', nan]\n",
      "\n",
      "Jacknife : 5\n"
     ]
    },
    {
     "name": "stderr",
     "output_type": "stream",
     "text": [
      "C:\\Users\\HP\\AppData\\Local\\Continuum\\anaconda3\\lib\\site-packages\\sklearn\\neural_network\\_multilayer_perceptron.py:500: ConvergenceWarning: lbfgs failed to converge (status=1):\n",
      "STOP: TOTAL NO. of ITERATIONS REACHED LIMIT.\n",
      "\n",
      "Increase the number of iterations (max_iter) or scale the data as shown in:\n",
      "    https://scikit-learn.org/stable/modules/preprocessing.html\n",
      "  self.n_iter_ = _check_optimize_result(\"lbfgs\", opt_res, self.max_iter)\n",
      "C:\\Users\\HP\\AppData\\Local\\Continuum\\anaconda3\\lib\\site-packages\\ipykernel_launcher.py:22: RuntimeWarning: invalid value encountered in longlong_scalars\n",
      "C:\\Users\\HP\\AppData\\Local\\Continuum\\anaconda3\\lib\\site-packages\\ipykernel_launcher.py:25: RuntimeWarning: invalid value encountered in true_divide\n"
     ]
    },
    {
     "name": "stdout",
     "output_type": "stream",
     "text": [
      "[31, 1, 0, 0, 'Accuracy =', 96.88, 'Sensitivity =', nan, 'specificity=', 1.0, 'Precession =', 0.0, 'MCC =', nan]\n",
      "\n",
      "Jacknife : 6\n"
     ]
    },
    {
     "name": "stderr",
     "output_type": "stream",
     "text": [
      "C:\\Users\\HP\\AppData\\Local\\Continuum\\anaconda3\\lib\\site-packages\\sklearn\\neural_network\\_multilayer_perceptron.py:500: ConvergenceWarning: lbfgs failed to converge (status=1):\n",
      "STOP: TOTAL NO. of ITERATIONS REACHED LIMIT.\n",
      "\n",
      "Increase the number of iterations (max_iter) or scale the data as shown in:\n",
      "    https://scikit-learn.org/stable/modules/preprocessing.html\n",
      "  self.n_iter_ = _check_optimize_result(\"lbfgs\", opt_res, self.max_iter)\n",
      "C:\\Users\\HP\\AppData\\Local\\Continuum\\anaconda3\\lib\\site-packages\\ipykernel_launcher.py:22: RuntimeWarning: invalid value encountered in longlong_scalars\n",
      "C:\\Users\\HP\\AppData\\Local\\Continuum\\anaconda3\\lib\\site-packages\\ipykernel_launcher.py:25: RuntimeWarning: invalid value encountered in true_divide\n"
     ]
    },
    {
     "name": "stdout",
     "output_type": "stream",
     "text": [
      "[29, 3, 0, 0, 'Accuracy =', 90.62, 'Sensitivity =', nan, 'specificity=', 1.0, 'Precession =', 0.0, 'MCC =', nan]\n",
      "\n",
      "Jacknife : 7\n"
     ]
    },
    {
     "name": "stderr",
     "output_type": "stream",
     "text": [
      "C:\\Users\\HP\\AppData\\Local\\Continuum\\anaconda3\\lib\\site-packages\\sklearn\\neural_network\\_multilayer_perceptron.py:500: ConvergenceWarning: lbfgs failed to converge (status=1):\n",
      "STOP: TOTAL NO. of ITERATIONS REACHED LIMIT.\n",
      "\n",
      "Increase the number of iterations (max_iter) or scale the data as shown in:\n",
      "    https://scikit-learn.org/stable/modules/preprocessing.html\n",
      "  self.n_iter_ = _check_optimize_result(\"lbfgs\", opt_res, self.max_iter)\n",
      "C:\\Users\\HP\\AppData\\Local\\Continuum\\anaconda3\\lib\\site-packages\\ipykernel_launcher.py:22: RuntimeWarning: invalid value encountered in longlong_scalars\n",
      "C:\\Users\\HP\\AppData\\Local\\Continuum\\anaconda3\\lib\\site-packages\\ipykernel_launcher.py:25: RuntimeWarning: invalid value encountered in true_divide\n"
     ]
    },
    {
     "name": "stdout",
     "output_type": "stream",
     "text": [
      "[31, 1, 0, 0, 'Accuracy =', 96.88, 'Sensitivity =', nan, 'specificity=', 1.0, 'Precession =', 0.0, 'MCC =', nan]\n",
      "\n",
      "Jacknife : 8\n"
     ]
    },
    {
     "name": "stderr",
     "output_type": "stream",
     "text": [
      "C:\\Users\\HP\\AppData\\Local\\Continuum\\anaconda3\\lib\\site-packages\\sklearn\\neural_network\\_multilayer_perceptron.py:500: ConvergenceWarning: lbfgs failed to converge (status=1):\n",
      "STOP: TOTAL NO. of ITERATIONS REACHED LIMIT.\n",
      "\n",
      "Increase the number of iterations (max_iter) or scale the data as shown in:\n",
      "    https://scikit-learn.org/stable/modules/preprocessing.html\n",
      "  self.n_iter_ = _check_optimize_result(\"lbfgs\", opt_res, self.max_iter)\n",
      "C:\\Users\\HP\\AppData\\Local\\Continuum\\anaconda3\\lib\\site-packages\\ipykernel_launcher.py:22: RuntimeWarning: invalid value encountered in longlong_scalars\n",
      "C:\\Users\\HP\\AppData\\Local\\Continuum\\anaconda3\\lib\\site-packages\\ipykernel_launcher.py:25: RuntimeWarning: invalid value encountered in true_divide\n"
     ]
    },
    {
     "name": "stdout",
     "output_type": "stream",
     "text": [
      "[30, 2, 0, 0, 'Accuracy =', 93.75, 'Sensitivity =', nan, 'specificity=', 1.0, 'Precession =', 0.0, 'MCC =', nan]\n",
      "\n",
      "Jacknife : 9\n"
     ]
    },
    {
     "name": "stderr",
     "output_type": "stream",
     "text": [
      "C:\\Users\\HP\\AppData\\Local\\Continuum\\anaconda3\\lib\\site-packages\\sklearn\\neural_network\\_multilayer_perceptron.py:500: ConvergenceWarning: lbfgs failed to converge (status=1):\n",
      "STOP: TOTAL NO. of ITERATIONS REACHED LIMIT.\n",
      "\n",
      "Increase the number of iterations (max_iter) or scale the data as shown in:\n",
      "    https://scikit-learn.org/stable/modules/preprocessing.html\n",
      "  self.n_iter_ = _check_optimize_result(\"lbfgs\", opt_res, self.max_iter)\n",
      "C:\\Users\\HP\\AppData\\Local\\Continuum\\anaconda3\\lib\\site-packages\\ipykernel_launcher.py:22: RuntimeWarning: invalid value encountered in longlong_scalars\n",
      "C:\\Users\\HP\\AppData\\Local\\Continuum\\anaconda3\\lib\\site-packages\\ipykernel_launcher.py:25: RuntimeWarning: invalid value encountered in true_divide\n"
     ]
    },
    {
     "name": "stdout",
     "output_type": "stream",
     "text": [
      "[29, 3, 0, 0, 'Accuracy =', 90.62, 'Sensitivity =', nan, 'specificity=', 1.0, 'Precession =', 0.0, 'MCC =', nan]\n",
      "\n",
      "Jacknife : 10\n"
     ]
    },
    {
     "name": "stderr",
     "output_type": "stream",
     "text": [
      "C:\\Users\\HP\\AppData\\Local\\Continuum\\anaconda3\\lib\\site-packages\\sklearn\\neural_network\\_multilayer_perceptron.py:500: ConvergenceWarning: lbfgs failed to converge (status=1):\n",
      "STOP: TOTAL NO. of ITERATIONS REACHED LIMIT.\n",
      "\n",
      "Increase the number of iterations (max_iter) or scale the data as shown in:\n",
      "    https://scikit-learn.org/stable/modules/preprocessing.html\n",
      "  self.n_iter_ = _check_optimize_result(\"lbfgs\", opt_res, self.max_iter)\n"
     ]
    },
    {
     "name": "stdout",
     "output_type": "stream",
     "text": [
      "[28, 1, 0, 3, 'Accuracy =', 96.88, 'Sensitivity =', 1.0, 'specificity=', 1.0, 'Precession =', 1.0, 'MCC =', 1.0]\n",
      "\n",
      "Jacknife : 11\n"
     ]
    },
    {
     "name": "stderr",
     "output_type": "stream",
     "text": [
      "C:\\Users\\HP\\AppData\\Local\\Continuum\\anaconda3\\lib\\site-packages\\sklearn\\neural_network\\_multilayer_perceptron.py:500: ConvergenceWarning: lbfgs failed to converge (status=1):\n",
      "STOP: TOTAL NO. of ITERATIONS REACHED LIMIT.\n",
      "\n",
      "Increase the number of iterations (max_iter) or scale the data as shown in:\n",
      "    https://scikit-learn.org/stable/modules/preprocessing.html\n",
      "  self.n_iter_ = _check_optimize_result(\"lbfgs\", opt_res, self.max_iter)\n",
      "C:\\Users\\HP\\AppData\\Local\\Continuum\\anaconda3\\lib\\site-packages\\ipykernel_launcher.py:23: RuntimeWarning: invalid value encountered in longlong_scalars\n"
     ]
    },
    {
     "name": "stdout",
     "output_type": "stream",
     "text": [
      "[0, 0, 3, 29, 'Accuracy =', 90.62, 'Sensitivity =', 1.0, 'specificity=', nan, 'Precession =', 1.0, 'MCC =', 0.0]\n",
      "\n",
      "Jacknife : 12\n"
     ]
    },
    {
     "name": "stderr",
     "output_type": "stream",
     "text": [
      "C:\\Users\\HP\\AppData\\Local\\Continuum\\anaconda3\\lib\\site-packages\\sklearn\\neural_network\\_multilayer_perceptron.py:500: ConvergenceWarning: lbfgs failed to converge (status=1):\n",
      "STOP: TOTAL NO. of ITERATIONS REACHED LIMIT.\n",
      "\n",
      "Increase the number of iterations (max_iter) or scale the data as shown in:\n",
      "    https://scikit-learn.org/stable/modules/preprocessing.html\n",
      "  self.n_iter_ = _check_optimize_result(\"lbfgs\", opt_res, self.max_iter)\n",
      "C:\\Users\\HP\\AppData\\Local\\Continuum\\anaconda3\\lib\\site-packages\\ipykernel_launcher.py:23: RuntimeWarning: invalid value encountered in longlong_scalars\n"
     ]
    },
    {
     "name": "stdout",
     "output_type": "stream",
     "text": [
      "[0, 0, 2, 30, 'Accuracy =', 93.75, 'Sensitivity =', 1.0, 'specificity=', nan, 'Precession =', 1.0, 'MCC =', 0.0]\n",
      "\n",
      "Jacknife : 13\n"
     ]
    },
    {
     "name": "stderr",
     "output_type": "stream",
     "text": [
      "C:\\Users\\HP\\AppData\\Local\\Continuum\\anaconda3\\lib\\site-packages\\sklearn\\neural_network\\_multilayer_perceptron.py:500: ConvergenceWarning: lbfgs failed to converge (status=1):\n",
      "STOP: TOTAL NO. of ITERATIONS REACHED LIMIT.\n",
      "\n",
      "Increase the number of iterations (max_iter) or scale the data as shown in:\n",
      "    https://scikit-learn.org/stable/modules/preprocessing.html\n",
      "  self.n_iter_ = _check_optimize_result(\"lbfgs\", opt_res, self.max_iter)\n",
      "C:\\Users\\HP\\AppData\\Local\\Continuum\\anaconda3\\lib\\site-packages\\ipykernel_launcher.py:23: RuntimeWarning: invalid value encountered in longlong_scalars\n"
     ]
    },
    {
     "name": "stdout",
     "output_type": "stream",
     "text": [
      "[0, 0, 2, 30, 'Accuracy =', 93.75, 'Sensitivity =', 1.0, 'specificity=', nan, 'Precession =', 1.0, 'MCC =', 0.0]\n",
      "\n",
      "Jacknife : 14\n"
     ]
    },
    {
     "name": "stderr",
     "output_type": "stream",
     "text": [
      "C:\\Users\\HP\\AppData\\Local\\Continuum\\anaconda3\\lib\\site-packages\\sklearn\\neural_network\\_multilayer_perceptron.py:500: ConvergenceWarning: lbfgs failed to converge (status=1):\n",
      "STOP: TOTAL NO. of ITERATIONS REACHED LIMIT.\n",
      "\n",
      "Increase the number of iterations (max_iter) or scale the data as shown in:\n",
      "    https://scikit-learn.org/stable/modules/preprocessing.html\n",
      "  self.n_iter_ = _check_optimize_result(\"lbfgs\", opt_res, self.max_iter)\n",
      "C:\\Users\\HP\\AppData\\Local\\Continuum\\anaconda3\\lib\\site-packages\\ipykernel_launcher.py:23: RuntimeWarning: invalid value encountered in longlong_scalars\n",
      "C:\\Users\\HP\\AppData\\Local\\Continuum\\anaconda3\\lib\\site-packages\\ipykernel_launcher.py:25: RuntimeWarning: invalid value encountered in true_divide\n"
     ]
    },
    {
     "name": "stdout",
     "output_type": "stream",
     "text": [
      "[0, 0, 0, 32, 'Accuracy =', 100.0, 'Sensitivity =', 1.0, 'specificity=', nan, 'Precession =', 1.0, 'MCC =', nan]\n",
      "\n",
      "Jacknife : 15\n"
     ]
    },
    {
     "name": "stderr",
     "output_type": "stream",
     "text": [
      "C:\\Users\\HP\\AppData\\Local\\Continuum\\anaconda3\\lib\\site-packages\\sklearn\\neural_network\\_multilayer_perceptron.py:500: ConvergenceWarning: lbfgs failed to converge (status=1):\n",
      "STOP: TOTAL NO. of ITERATIONS REACHED LIMIT.\n",
      "\n",
      "Increase the number of iterations (max_iter) or scale the data as shown in:\n",
      "    https://scikit-learn.org/stable/modules/preprocessing.html\n",
      "  self.n_iter_ = _check_optimize_result(\"lbfgs\", opt_res, self.max_iter)\n",
      "C:\\Users\\HP\\AppData\\Local\\Continuum\\anaconda3\\lib\\site-packages\\ipykernel_launcher.py:23: RuntimeWarning: invalid value encountered in longlong_scalars\n"
     ]
    },
    {
     "name": "stdout",
     "output_type": "stream",
     "text": [
      "[0, 0, 1, 30, 'Accuracy =', 96.77, 'Sensitivity =', 1.0, 'specificity=', nan, 'Precession =', 1.0, 'MCC =', 0.0]\n",
      "\n",
      "Jacknife : 16\n"
     ]
    },
    {
     "name": "stderr",
     "output_type": "stream",
     "text": [
      "C:\\Users\\HP\\AppData\\Local\\Continuum\\anaconda3\\lib\\site-packages\\sklearn\\neural_network\\_multilayer_perceptron.py:500: ConvergenceWarning: lbfgs failed to converge (status=1):\n",
      "STOP: TOTAL NO. of ITERATIONS REACHED LIMIT.\n",
      "\n",
      "Increase the number of iterations (max_iter) or scale the data as shown in:\n",
      "    https://scikit-learn.org/stable/modules/preprocessing.html\n",
      "  self.n_iter_ = _check_optimize_result(\"lbfgs\", opt_res, self.max_iter)\n",
      "C:\\Users\\HP\\AppData\\Local\\Continuum\\anaconda3\\lib\\site-packages\\ipykernel_launcher.py:23: RuntimeWarning: invalid value encountered in longlong_scalars\n",
      "C:\\Users\\HP\\AppData\\Local\\Continuum\\anaconda3\\lib\\site-packages\\ipykernel_launcher.py:25: RuntimeWarning: invalid value encountered in true_divide\n"
     ]
    },
    {
     "name": "stdout",
     "output_type": "stream",
     "text": [
      "[0, 0, 0, 31, 'Accuracy =', 100.0, 'Sensitivity =', 1.0, 'specificity=', nan, 'Precession =', 1.0, 'MCC =', nan]\n",
      "\n",
      "Jacknife : 17\n"
     ]
    },
    {
     "name": "stderr",
     "output_type": "stream",
     "text": [
      "C:\\Users\\HP\\AppData\\Local\\Continuum\\anaconda3\\lib\\site-packages\\sklearn\\neural_network\\_multilayer_perceptron.py:500: ConvergenceWarning: lbfgs failed to converge (status=1):\n",
      "STOP: TOTAL NO. of ITERATIONS REACHED LIMIT.\n",
      "\n",
      "Increase the number of iterations (max_iter) or scale the data as shown in:\n",
      "    https://scikit-learn.org/stable/modules/preprocessing.html\n",
      "  self.n_iter_ = _check_optimize_result(\"lbfgs\", opt_res, self.max_iter)\n",
      "C:\\Users\\HP\\AppData\\Local\\Continuum\\anaconda3\\lib\\site-packages\\ipykernel_launcher.py:23: RuntimeWarning: invalid value encountered in longlong_scalars\n"
     ]
    },
    {
     "name": "stdout",
     "output_type": "stream",
     "text": [
      "[0, 0, 1, 30, 'Accuracy =', 96.77, 'Sensitivity =', 1.0, 'specificity=', nan, 'Precession =', 1.0, 'MCC =', 0.0]\n",
      "\n",
      "Jacknife : 18\n"
     ]
    },
    {
     "name": "stderr",
     "output_type": "stream",
     "text": [
      "C:\\Users\\HP\\AppData\\Local\\Continuum\\anaconda3\\lib\\site-packages\\sklearn\\neural_network\\_multilayer_perceptron.py:500: ConvergenceWarning: lbfgs failed to converge (status=1):\n",
      "STOP: TOTAL NO. of ITERATIONS REACHED LIMIT.\n",
      "\n",
      "Increase the number of iterations (max_iter) or scale the data as shown in:\n",
      "    https://scikit-learn.org/stable/modules/preprocessing.html\n",
      "  self.n_iter_ = _check_optimize_result(\"lbfgs\", opt_res, self.max_iter)\n",
      "C:\\Users\\HP\\AppData\\Local\\Continuum\\anaconda3\\lib\\site-packages\\ipykernel_launcher.py:23: RuntimeWarning: invalid value encountered in longlong_scalars\n",
      "C:\\Users\\HP\\AppData\\Local\\Continuum\\anaconda3\\lib\\site-packages\\ipykernel_launcher.py:25: RuntimeWarning: invalid value encountered in true_divide\n"
     ]
    },
    {
     "name": "stdout",
     "output_type": "stream",
     "text": [
      "[0, 0, 0, 31, 'Accuracy =', 100.0, 'Sensitivity =', 1.0, 'specificity=', nan, 'Precession =', 1.0, 'MCC =', nan]\n",
      "\n",
      "Jacknife : 19\n"
     ]
    },
    {
     "name": "stderr",
     "output_type": "stream",
     "text": [
      "C:\\Users\\HP\\AppData\\Local\\Continuum\\anaconda3\\lib\\site-packages\\sklearn\\neural_network\\_multilayer_perceptron.py:500: ConvergenceWarning: lbfgs failed to converge (status=1):\n",
      "STOP: TOTAL NO. of ITERATIONS REACHED LIMIT.\n",
      "\n",
      "Increase the number of iterations (max_iter) or scale the data as shown in:\n",
      "    https://scikit-learn.org/stable/modules/preprocessing.html\n",
      "  self.n_iter_ = _check_optimize_result(\"lbfgs\", opt_res, self.max_iter)\n",
      "C:\\Users\\HP\\AppData\\Local\\Continuum\\anaconda3\\lib\\site-packages\\ipykernel_launcher.py:23: RuntimeWarning: invalid value encountered in longlong_scalars\n"
     ]
    },
    {
     "name": "stdout",
     "output_type": "stream",
     "text": [
      "[0, 0, 1, 30, 'Accuracy =', 96.77, 'Sensitivity =', 1.0, 'specificity=', nan, 'Precession =', 1.0, 'MCC =', 0.0]\n",
      "\n",
      "Jacknife : 20\n",
      "[0, 0, 0, 31, 'Accuracy =', 100.0, 'Sensitivity =', 1.0, 'specificity=', nan, 'Precession =', 1.0, 'MCC =', nan]\n",
      "\n",
      "Final Jacknife Score =  95.3\n"
     ]
    },
    {
     "name": "stderr",
     "output_type": "stream",
     "text": [
      "C:\\Users\\HP\\AppData\\Local\\Continuum\\anaconda3\\lib\\site-packages\\sklearn\\neural_network\\_multilayer_perceptron.py:500: ConvergenceWarning: lbfgs failed to converge (status=1):\n",
      "STOP: TOTAL NO. of ITERATIONS REACHED LIMIT.\n",
      "\n",
      "Increase the number of iterations (max_iter) or scale the data as shown in:\n",
      "    https://scikit-learn.org/stable/modules/preprocessing.html\n",
      "  self.n_iter_ = _check_optimize_result(\"lbfgs\", opt_res, self.max_iter)\n",
      "C:\\Users\\HP\\AppData\\Local\\Continuum\\anaconda3\\lib\\site-packages\\ipykernel_launcher.py:23: RuntimeWarning: invalid value encountered in longlong_scalars\n",
      "C:\\Users\\HP\\AppData\\Local\\Continuum\\anaconda3\\lib\\site-packages\\ipykernel_launcher.py:25: RuntimeWarning: invalid value encountered in true_divide\n"
     ]
    },
    {
     "data": {
      "image/png": "[encoded data removed]",
      "text/plain": [
       "<Figure size 432x288 with 1 Axes>"
      ]
     },
     "metadata": {
      "needs_background": "light"
     },
     "output_type": "display_data"
    },
    {
     "ename": "ValueError",
     "evalue": "Found input variables with inconsistent numbers of samples: [127, 634]",
     "output_type": "error",
     "traceback": [
      "\u001b[1;31m---------------------------------------------------------------------------\u001b[0m",
      "\u001b[1;31mValueError\u001b[0m                                Traceback (most recent call last)",
      "\u001b[1;32m~\\AppData\\Local\\Temp/ipykernel_20240/1021283842.py\u001b[0m in \u001b[0;36m<module>\u001b[1;34m\u001b[0m\n\u001b[0;32m     64\u001b[0m \u001b[1;33m\u001b[0m\u001b[0m\n\u001b[0;32m     65\u001b[0m \u001b[1;31m# plot the roc curve for the model\u001b[0m\u001b[1;33m\u001b[0m\u001b[1;33m\u001b[0m\u001b[1;33m\u001b[0m\u001b[0m\n\u001b[1;32m---> 66\u001b[1;33m \u001b[0mns_fpr2\u001b[0m\u001b[1;33m,\u001b[0m \u001b[0mns_tpr2\u001b[0m\u001b[1;33m,\u001b[0m \u001b[0m_\u001b[0m \u001b[1;33m=\u001b[0m \u001b[0mroc_curve\u001b[0m\u001b[1;33m(\u001b[0m\u001b[0my_test\u001b[0m\u001b[1;33m,\u001b[0m \u001b[0mns_probs1\u001b[0m\u001b[1;33m)\u001b[0m \u001b[1;31m# this is needed to be check as I suppose to be true but needed verification\u001b[0m\u001b[1;33m\u001b[0m\u001b[1;33m\u001b[0m\u001b[0m\n\u001b[0m\u001b[0;32m     67\u001b[0m \u001b[0mpyplot\u001b[0m\u001b[1;33m.\u001b[0m\u001b[0mplot\u001b[0m\u001b[1;33m(\u001b[0m\u001b[0mns_fpr2\u001b[0m\u001b[1;33m,\u001b[0m \u001b[0mns_tpr2\u001b[0m\u001b[1;33m,\u001b[0m \u001b[0mlinestyle\u001b[0m\u001b[1;33m=\u001b[0m\u001b[1;34m'--'\u001b[0m\u001b[1;33m,\u001b[0m \u001b[0mcolor\u001b[0m\u001b[1;33m=\u001b[0m\u001b[1;34m'Blue'\u001b[0m\u001b[1;33m)\u001b[0m\u001b[1;33m\u001b[0m\u001b[1;33m\u001b[0m\u001b[0m\n\u001b[0;32m     68\u001b[0m \u001b[0mpyplot\u001b[0m\u001b[1;33m.\u001b[0m\u001b[0mplot\u001b[0m\u001b[1;33m(\u001b[0m\u001b[0mlr_fpr2\u001b[0m\u001b[1;33m,\u001b[0m \u001b[0mlr_tpr2\u001b[0m\u001b[1;33m,\u001b[0m \u001b[0mlinestyle\u001b[0m\u001b[1;33m=\u001b[0m\u001b[1;34m'-'\u001b[0m\u001b[1;33m,\u001b[0m \u001b[0mcolor\u001b[0m\u001b[1;33m=\u001b[0m\u001b[1;34m'Green'\u001b[0m\u001b[1;33m,\u001b[0m \u001b[0mlabel\u001b[0m\u001b[1;33m=\u001b[0m\u001b[1;34m'10-fold Cross Validation'\u001b[0m\u001b[1;33m)\u001b[0m\u001b[1;33m\u001b[0m\u001b[1;33m\u001b[0m\u001b[0m\n",
      "\u001b[1;32m~\\AppData\\Local\\Continuum\\anaconda3\\lib\\site-packages\\sklearn\\utils\\validation.py\u001b[0m in \u001b[0;36minner_f\u001b[1;34m(*args, **kwargs)\u001b[0m\n\u001b[0;32m     61\u001b[0m             \u001b[0mextra_args\u001b[0m \u001b[1;33m=\u001b[0m \u001b[0mlen\u001b[0m\u001b[1;33m(\u001b[0m\u001b[0margs\u001b[0m\u001b[1;33m)\u001b[0m \u001b[1;33m-\u001b[0m \u001b[0mlen\u001b[0m\u001b[1;33m(\u001b[0m\u001b[0mall_args\u001b[0m\u001b[1;33m)\u001b[0m\u001b[1;33m\u001b[0m\u001b[1;33m\u001b[0m\u001b[0m\n\u001b[0;32m     62\u001b[0m             \u001b[1;32mif\u001b[0m \u001b[0mextra_args\u001b[0m \u001b[1;33m<=\u001b[0m \u001b[1;36m0\u001b[0m\u001b[1;33m:\u001b[0m\u001b[1;33m\u001b[0m\u001b[1;33m\u001b[0m\u001b[0m\n\u001b[1;32m---> 63\u001b[1;33m                 \u001b[1;32mreturn\u001b[0m \u001b[0mf\u001b[0m\u001b[1;33m(\u001b[0m\u001b[1;33m*\u001b[0m\u001b[0margs\u001b[0m\u001b[1;33m,\u001b[0m \u001b[1;33m**\u001b[0m\u001b[0mkwargs\u001b[0m\u001b[1;33m)\u001b[0m\u001b[1;33m\u001b[0m\u001b[1;33m\u001b[0m\u001b[0m\n\u001b[0m\u001b[0;32m     64\u001b[0m \u001b[1;33m\u001b[0m\u001b[0m\n\u001b[0;32m     65\u001b[0m             \u001b[1;31m# extra_args > 0\u001b[0m\u001b[1;33m\u001b[0m\u001b[1;33m\u001b[0m\u001b[1;33m\u001b[0m\u001b[0m\n",
      "\u001b[1;32m~\\AppData\\Local\\Continuum\\anaconda3\\lib\\site-packages\\sklearn\\metrics\\_ranking.py\u001b[0m in \u001b[0;36mroc_curve\u001b[1;34m(y_true, y_score, pos_label, sample_weight, drop_intermediate)\u001b[0m\n\u001b[0;32m    912\u001b[0m     \"\"\"\n\u001b[0;32m    913\u001b[0m     fps, tps, thresholds = _binary_clf_curve(\n\u001b[1;32m--> 914\u001b[1;33m         y_true, y_score, pos_label=pos_label, sample_weight=sample_weight)\n\u001b[0m\u001b[0;32m    915\u001b[0m \u001b[1;33m\u001b[0m\u001b[0m\n\u001b[0;32m    916\u001b[0m     \u001b[1;31m# Attempt to drop thresholds corresponding to points in between and\u001b[0m\u001b[1;33m\u001b[0m\u001b[1;33m\u001b[0m\u001b[1;33m\u001b[0m\u001b[0m\n",
      "\u001b[1;32m~\\AppData\\Local\\Continuum\\anaconda3\\lib\\site-packages\\sklearn\\metrics\\_ranking.py\u001b[0m in \u001b[0;36m_binary_clf_curve\u001b[1;34m(y_true, y_score, pos_label, sample_weight)\u001b[0m\n\u001b[0;32m    691\u001b[0m         \u001b[1;32mraise\u001b[0m \u001b[0mValueError\u001b[0m\u001b[1;33m(\u001b[0m\u001b[1;34m\"{0} format is not supported\"\u001b[0m\u001b[1;33m.\u001b[0m\u001b[0mformat\u001b[0m\u001b[1;33m(\u001b[0m\u001b[0my_type\u001b[0m\u001b[1;33m)\u001b[0m\u001b[1;33m)\u001b[0m\u001b[1;33m\u001b[0m\u001b[1;33m\u001b[0m\u001b[0m\n\u001b[0;32m    692\u001b[0m \u001b[1;33m\u001b[0m\u001b[0m\n\u001b[1;32m--> 693\u001b[1;33m     \u001b[0mcheck_consistent_length\u001b[0m\u001b[1;33m(\u001b[0m\u001b[0my_true\u001b[0m\u001b[1;33m,\u001b[0m \u001b[0my_score\u001b[0m\u001b[1;33m,\u001b[0m \u001b[0msample_weight\u001b[0m\u001b[1;33m)\u001b[0m\u001b[1;33m\u001b[0m\u001b[1;33m\u001b[0m\u001b[0m\n\u001b[0m\u001b[0;32m    694\u001b[0m     \u001b[0my_true\u001b[0m \u001b[1;33m=\u001b[0m \u001b[0mcolumn_or_1d\u001b[0m\u001b[1;33m(\u001b[0m\u001b[0my_true\u001b[0m\u001b[1;33m)\u001b[0m\u001b[1;33m\u001b[0m\u001b[1;33m\u001b[0m\u001b[0m\n\u001b[0;32m    695\u001b[0m     \u001b[0my_score\u001b[0m \u001b[1;33m=\u001b[0m \u001b[0mcolumn_or_1d\u001b[0m\u001b[1;33m(\u001b[0m\u001b[0my_score\u001b[0m\u001b[1;33m)\u001b[0m\u001b[1;33m\u001b[0m\u001b[1;33m\u001b[0m\u001b[0m\n",
      "\u001b[1;32m~\\AppData\\Local\\Continuum\\anaconda3\\lib\\site-packages\\sklearn\\utils\\validation.py\u001b[0m in \u001b[0;36mcheck_consistent_length\u001b[1;34m(*arrays)\u001b[0m\n\u001b[0;32m    318\u001b[0m     \u001b[1;32mif\u001b[0m \u001b[0mlen\u001b[0m\u001b[1;33m(\u001b[0m\u001b[0muniques\u001b[0m\u001b[1;33m)\u001b[0m \u001b[1;33m>\u001b[0m \u001b[1;36m1\u001b[0m\u001b[1;33m:\u001b[0m\u001b[1;33m\u001b[0m\u001b[1;33m\u001b[0m\u001b[0m\n\u001b[0;32m    319\u001b[0m         raise ValueError(\"Found input variables with inconsistent numbers of\"\n\u001b[1;32m--> 320\u001b[1;33m                          \" samples: %r\" % [int(l) for l in lengths])\n\u001b[0m\u001b[0;32m    321\u001b[0m \u001b[1;33m\u001b[0m\u001b[0m\n\u001b[0;32m    322\u001b[0m \u001b[1;33m\u001b[0m\u001b[0m\n",
      "\u001b[1;31mValueError\u001b[0m: Found input variables with inconsistent numbers of samples: [127, 634]"
     ]
    },
    {
     "data": {
      "image/png": "[encoded data removed]",
      "text/plain": [
       "<Figure size 432x288 with 1 Axes>"
      ]
     },
     "metadata": {
      "needs_background": "light"
     },
     "output_type": "display_data"
    }
   ],
   "source": [
    "kfold = KFold(n_splits=20, shuffle=False)  # Removed Stratified Keyword for JackKnife\n",
    "cvscores = []\n",
    "iterator = 1\n",
    "cv_score = 0\n",
    "\n",
    "# Normalization\n",
    "std_scale = StandardScaler().fit(X)\n",
    "X = np.array(X, dtype='float64')\n",
    "#X = std_scale.transform(X)\n",
    "# pca = decomposition.PCA(n_components=2)\n",
    "# pca.fit(X)\n",
    "# X = pca.transform(X)\n",
    "print('\\nJacknife testing')\n",
    "for train, test in kfold.split(X, Y):\n",
    "    print('\\nJacknife : ' + str(iterator))\n",
    "    #clf = RandomForestClassifier(n_estimators=30, max_depth=25, oob_score=True, n_jobs=-1, warm_start=False).fit(X, Y.ravel())\n",
    "    clf = MLPClassifier(solver='lbfgs', alpha=1e-5,hidden_layer_sizes=(5, 2), random_state=1).fit(X, Y.ravel())\n",
    "    #clf= SVC(kernel='linear', probability=True).fit(X, Y.ravel())\n",
    "    pred = np.round(clf.predict(X[test]))\n",
    "    tn2, fp2, fn2, tp2 = confusion_matrix(Y[test], pred, labels=[1, 0]).ravel()\n",
    "    acc2 = np.round(((tn2 + tp2)/ (tn2 + fp2 + fn2 + tp2)) * 100, 2)\n",
    "    sn2=np.round(tp2/(tp2+fn2))\n",
    "    sp2=np.round(tn2/(tn2+fp2))\n",
    "    prec2=np.round(tp2/(tp2+fp2))\n",
    "    mcc2=np.round((tp2*tn2-fp2*fn2)/(math.sqrt((tp2+fp2)*(tp2+fn2)*(tn2+fn2)*(tn2+fn2))))\n",
    "    cvscores.append([tn2, fp2, fn2, tp2, acc2, sn2, sp2, prec2, mcc2])\n",
    "    iterator = iterator + 1\n",
    "    print([tn2, fp2, fn2, tp2, 'Accuracy =', acc2, 'Sensitivity =', sn2, 'specificity=', sp2, 'Precession =', prec2, 'MCC =', mcc2])\n",
    "    cv_score = cv_score + acc2\n",
    "print('\\n\\rFinal Jacknife Score = ', np.round(cv_score / kfold.n_splits, 2))\n",
    "with open('./result3.csv', 'w', newline='') as csvfile:\n",
    "    resultwriter = csv.writer(csvfile, delimiter=',', quotechar='|')\n",
    "    resultwriter.writerow(['\\nJacknife'])\n",
    "    resultwriter.writerow(['True Negative' 'False Positive' 'False Negative' 'True Positive' 'Accuracy'])\n",
    "    for i in range(cvscores.__len__()):\n",
    "        resultwriter.writerow(cvscores[i])\n",
    "    resultwriter.writerow(['The Final Jacknife Score', '', '', '', np.round(cv_score / kfold.n_splits, 2)])\n",
    "\n",
    "from matplotlib import pyplot\n",
    "\n",
    "ns_probs1 = [0 for _ in range(len(Y))]\n",
    "lr_probs1 = clf.predict_proba(X)#clf\n",
    "# keep probabilities for the positive outcome only\n",
    "lr_probs1 = lr_probs1[:, 1]\n",
    "\n",
    "# calculate roc curves\n",
    "ns_fpr4, ns_tpr4, _ = roc_curve(Y, ns_probs1)\n",
    "lr_fpr4, lr_tpr4, _ = roc_curve(Y, lr_probs1)\n",
    "\n",
    "# plot the roc curve for the model\n",
    "pyplot.plot(ns_fpr4, ns_tpr4, linestyle='--')\n",
    "pyplot.plot(lr_fpr4, lr_tpr4, marker='.', label='Jacknife Testing')\n",
    "# axis labels\n",
    "pyplot.xlabel('False Positive Rate')\n",
    "pyplot.ylabel('True Positive Rate')\n",
    "# show the legend\n",
    "pyplot.legend()\n",
    "# show the plot\n",
    "pyplot.show()\n",
    "\n",
    "# plot the roc curve for the model\n",
    "pyplot.plot(ns_fpr1, ns_tpr1, linestyle='--', )\n",
    "pyplot.plot(lr_fpr1, lr_tpr1, marker='.', color='purple', label='Self-Consistency')\n",
    "\n",
    "# plot the roc curve for the model\n",
    "ns_fpr2, ns_tpr2, _ = roc_curve(y_test, ns_probs1) # this is needed to be check as I suppose to be true but needed verification\n",
    "pyplot.plot(ns_fpr2, ns_tpr2, linestyle='--', color='Blue')\n",
    "pyplot.plot(lr_fpr2, lr_tpr2, linestyle='-', color='Green', label='10-fold Cross Validation')\n",
    "\n",
    "# plot the roc curve for the model\n",
    "pyplot.plot(ns_fpr3, ns_tpr3, linestyle='--')\n",
    "pyplot.plot(lr_fpr3, lr_tpr3, marker='.', color='Cyan', label='Independent Testing')\n",
    "\n",
    "# plot the roc curve for the model\n",
    "pyplot.plot(ns_fpr4, ns_tpr4, linestyle='--')\n",
    "pyplot.plot(lr_fpr4, lr_tpr4, marker='.', color='yellow', label='Jacknife Testing')\n",
    "\n",
    "# axis labels\n",
    "pyplot.xlabel('False Positive Rate')\n",
    "pyplot.ylabel('True Positive Rate')\n",
    "# show the legend\n",
    "pyplot.legend()\n",
    "# show the plot\n",
    "pyplot.show()"
   ]
  },
  {
   "cell_type": "code",
   "execution_count": null,
   "metadata": {},
   "outputs": [],
   "source": []
  },
  {
   "cell_type": "code",
   "execution_count": null,
   "metadata": {},
   "outputs": [],
   "source": []
  }
 ],
 "metadata": {
  "kernelspec": {
   "display_name": "Python 3 (ipykernel)",
   "language": "python",
   "name": "python3"
  },
  "language_info": {
   "codemirror_mode": {
    "name": "ipython",
    "version": 3
   },
   "file_extension": ".py",
   "mimetype": "text/x-python",
   "name": "python",
   "nbconvert_exporter": "python",
   "pygments_lexer": "ipython3",
   "version": "3.7.3"
  }
 },
 "nbformat": 4,
 "nbformat_minor": 2
}
